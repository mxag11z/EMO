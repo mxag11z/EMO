{
  "nbformat": 4,
  "nbformat_minor": 0,
  "metadata": {
    "colab": {
      "provenance": [],
      "authorship_tag": "ABX9TyOa+8sX2ndrtYrk+ZTiIF4h",
      "include_colab_link": true
    },
    "kernelspec": {
      "name": "python3",
      "display_name": "Python 3"
    },
    "language_info": {
      "name": "python"
    }
  },
  "cells": [
    {
      "cell_type": "markdown",
      "metadata": {
        "id": "view-in-github",
        "colab_type": "text"
      },
      "source": [
        "<a href=\"https://colab.research.google.com/github/mxag11z/EMO/blob/main/ModeloRegresion.ipynb\" target=\"_parent\"><img src=\"https://colab.research.google.com/assets/colab-badge.svg\" alt=\"Open In Colab\"/></a>"
      ]
    },
    {
      "cell_type": "markdown",
      "source": [
        "# Regresion 4 emociones Joy, sadness, anger, fear\n",
        "\n",
        "Estrategia 1: Utilizar la traducción automática, traducir el conjunto de datos de evaluación en español al inglés y evaluar un modelo entrenado en el conjunto de entrenamiento en inglés.\n"
      ],
      "metadata": {
        "id": "y5pXF46qEGuG"
      }
    },
    {
      "cell_type": "code",
      "source": [
        "from google.colab import drive\n",
        "drive.mount('/content/drive')"
      ],
      "metadata": {
        "colab": {
          "base_uri": "https://localhost:8080/"
        },
        "id": "RdsyDEAEDL61",
        "outputId": "96827b66-1bc9-4f74-e557-74f5801d01ea"
      },
      "execution_count": 1,
      "outputs": [
        {
          "output_type": "stream",
          "name": "stdout",
          "text": [
            "Mounted at /content/drive\n"
          ]
        }
      ]
    },
    {
      "cell_type": "code",
      "execution_count": 2,
      "metadata": {
        "id": "YPzGbKESC9yI"
      },
      "outputs": [],
      "source": [
        "import nltk\n",
        "import numpy as np\n",
        "from sklearn import linear_model\n",
        "import sklearn.metrics\n",
        "from sklearn.feature_extraction.text import CountVectorizer"
      ]
    },
    {
      "cell_type": "code",
      "source": [
        "def read_data(emotion):\n",
        "    \"\"\"\n",
        "    Lee los datos de train y test para una emoción\n",
        "    \"\"\"\n",
        "    # Datos de entrenamiento\n",
        "    with open(f\"/content/drive/MyDrive/PLN project/data/en/train/{emotion}.txt\", 'r', encoding='utf-8') as f:\n",
        "        train_X = f.readlines()\n",
        "    with open(f\"/content/drive/MyDrive/PLN project/data/en/train/{emotion}_labels.txt\", 'r', encoding='utf-8') as f:\n",
        "        train_y = [float(line.strip()) for line in f.readlines()]\n",
        "\n",
        "    # Datos de test\n",
        "    with open(f\"/content/drive/MyDrive/PLN project/data/es_test_translatedEn/translates_testToEn_{emotion}.txt\", 'r', encoding='utf-8') as f:\n",
        "        test_X = f.readlines()\n",
        "    with open(f\"/content/drive/MyDrive/PLN project/data/es/test/{emotion}_labels.txt\", 'r', encoding='utf-8') as f:\n",
        "        test_y = [float(line.strip()) for line in f.readlines()]\n",
        "\n",
        "    return (train_X, train_y), (test_X, test_y)"
      ],
      "metadata": {
        "id": "GsCqvc2CESUA"
      },
      "execution_count": 7,
      "outputs": []
    },
    {
      "cell_type": "markdown",
      "source": [
        "Palabras que contribuyen a predecir la aparición de la emocion (positive features)o su asuencia (negative features)"
      ],
      "metadata": {
        "id": "yi8pCIGMHjoS"
      }
    },
    {
      "cell_type": "code",
      "source": [
        "def analyze_weights(model, vectorizer, emotion, num_features=5):\n",
        "    \"\"\"\n",
        "    Analiza los pesos más importantes del modelo\n",
        "    \"\"\"\n",
        "    reverse_vocab = {v: k for k, v in vectorizer.vocabulary_.items()}\n",
        "    sort_index = np.argsort(model.coef_)\n",
        "\n",
        "    print(f\"\\nTop positive features for {emotion}:\")\n",
        "    for k in reversed(sort_index[-num_features:]):\n",
        "        print(f\"{model.coef_[k]:.5f}\\t{reverse_vocab[k]}\")\n",
        "\n",
        "    print(f\"\\nTop negative features for {emotion}:\")\n",
        "    for k in sort_index[:num_features]:\n",
        "        print(f\"{model.coef_[k]:.5f}\\t{reverse_vocab[k]}\")"
      ],
      "metadata": {
        "id": "inl8lpu-GKND"
      },
      "execution_count": 8,
      "outputs": []
    },
    {
      "cell_type": "markdown",
      "source": [
        "# Función para entrenar y evaluar el modelo para una emoción"
      ],
      "metadata": {
        "id": "p4ksP0GdI8uH"
      }
    },
    {
      "cell_type": "code",
      "source": [
        "def train_emotion_regressor(emotion,alpha=100):\n",
        "    \"\"\"\n",
        "    Entrena y evalúa un regresor para una emoción específica\n",
        "    \"\"\"\n",
        "\n",
        "    vectorizer = CountVectorizer(\n",
        "        max_features=10000,\n",
        "        ngram_range=(1,2),\n",
        "        lowercase=True,\n",
        "        strip_accents=None,\n",
        "        binary=True\n",
        "    )\n",
        "\n",
        "    # Cargar datos\n",
        "    (train_X, train_y), (test_X, test_y) = read_data(emotion)\n",
        "\n",
        "    X_train = vectorizer.fit_transform(train_X)\n",
        "    X_test = vectorizer.transform(test_X)\n",
        "\n",
        "    # Entrenar modelo\n",
        "    model = linear_model.Ridge(alpha=alpha, fit_intercept=True)\n",
        "    model.fit(X_train, train_y)\n",
        "\n",
        "    # Evaluar\n",
        "    preds = model.predict(X_test)\n",
        "    mae = sklearn.metrics.mean_absolute_error(test_y, preds)\n",
        "\n",
        "    # Analizar pesos\n",
        "    analyze_weights(model, vectorizer, emotion)\n",
        "\n",
        "    return model, vectorizer, mae"
      ],
      "metadata": {
        "id": "GzCCYY8sIrEN"
      },
      "execution_count": 10,
      "outputs": []
    },
    {
      "cell_type": "markdown",
      "source": [
        "# Función para entrenar y evaluar todas las emociones"
      ],
      "metadata": {
        "id": "qGFxTYliKfaS"
      }
    },
    {
      "cell_type": "code",
      "source": [
        "def train_all_emotions(data_path):\n",
        "    \"\"\"\n",
        "    Entrena y evalúa regresores para todas las emociones\n",
        "    \"\"\"\n",
        "    emotions = ['joy', 'anger', 'sadness', 'fear']\n",
        "    results = {} #set\n",
        "\n",
        "    for emotion in emotions:\n",
        "        print(f\"\\n-----Processing {emotion}\")\n",
        "        model, vectorizer, mae = train_emotion_regressor(emotion)\n",
        "        print(f\"MAE{emotion}: {mae:.4f}\")\n",
        "\n",
        "        results[emotion] = {\n",
        "            'model': model,\n",
        "            'vectorizer': vectorizer,\n",
        "            'mae': mae\n",
        "        }\n",
        "\n",
        "    return results"
      ],
      "metadata": {
        "id": "AVdPDcdhKqH-"
      },
      "execution_count": 12,
      "outputs": []
    }
  ]
}