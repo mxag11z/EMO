{
  "nbformat": 4,
  "nbformat_minor": 0,
  "metadata": {
    "colab": {
      "provenance": [],
      "authorship_tag": "ABX9TyMP0eIa7OU/mVdj1A74fJGW",
      "include_colab_link": true
    },
    "kernelspec": {
      "name": "python3",
      "display_name": "Python 3"
    },
    "language_info": {
      "name": "python"
    }
  },
  "cells": [
    {
      "cell_type": "markdown",
      "metadata": {
        "id": "view-in-github",
        "colab_type": "text"
      },
      "source": [
        "<a href=\"https://colab.research.google.com/github/mxag11z/EMO/blob/main/ModeloRegresion.ipynb\" target=\"_parent\"><img src=\"https://colab.research.google.com/assets/colab-badge.svg\" alt=\"Open In Colab\"/></a>"
      ]
    },
    {
      "cell_type": "markdown",
      "source": [
        "# Regresion 4 emociones Joy, sadness, anger, fear\n",
        "\n",
        "Estrategia 1: Utilizar la traducción automática, traducir el conjunto de datos de evaluación en español al inglés y evaluar un modelo entrenado en el conjunto de entrenamiento en inglés.\n"
      ],
      "metadata": {
        "id": "y5pXF46qEGuG"
      }
    },
    {
      "cell_type": "code",
      "source": [
        "from google.colab import drive\n",
        "drive.mount('/content/drive')"
      ],
      "metadata": {
        "colab": {
          "base_uri": "https://localhost:8080/"
        },
        "id": "RdsyDEAEDL61",
        "outputId": "f4df9357-a922-4e7c-bdb8-6c852953e018"
      },
      "execution_count": 2,
      "outputs": [
        {
          "output_type": "stream",
          "name": "stdout",
          "text": [
            "Mounted at /content/drive\n"
          ]
        }
      ]
    },
    {
      "cell_type": "code",
      "execution_count": 3,
      "metadata": {
        "colab": {
          "base_uri": "https://localhost:8080/"
        },
        "id": "YPzGbKESC9yI",
        "outputId": "2e57f61f-f7b7-48fe-a054-ea7a6fc46015"
      },
      "outputs": [
        {
          "output_type": "stream",
          "name": "stderr",
          "text": [
            "[nltk_data] Downloading package punkt to /root/nltk_data...\n",
            "[nltk_data]   Unzipping tokenizers/punkt.zip.\n"
          ]
        },
        {
          "output_type": "execute_result",
          "data": {
            "text/plain": [
              "True"
            ]
          },
          "metadata": {},
          "execution_count": 3
        }
      ],
      "source": [
        "import nltk\n",
        "import numpy as np\n",
        "from sklearn import linear_model\n",
        "import sklearn.metrics\n",
        "from sklearn.feature_extraction.text import CountVectorizer\n",
        "\n",
        "nltk.download('punkt')"
      ]
    },
    {
      "cell_type": "code",
      "source": [
        "def read_data(emotion):\n",
        "    \"\"\"\n",
        "    Lee los datos de train y test para una emoción\n",
        "    \"\"\"\n",
        "    # Datos de entrenamiento\n",
        "    with open(f\"/content/drive/MyDrive/PLN project/data/en/train/{emotion}.txt\", 'r', encoding='utf-8') as f:\n",
        "        train_X = f.readlines()\n",
        "    with open(f\"/content/drive/MyDrive/PLN project/data/en/train/{emotion}_labels.txt\", 'r', encoding='utf-8') as f:\n",
        "        train_y = [float(line.strip()) for line in f.readlines()]\n",
        "\n",
        "    # Datos de test\n",
        "    with open(f\"/content/drive/MyDrive/PLN project/data/es_test_translatedEn/translated_testToEn_{emotion}.txt\", 'r', encoding='utf-8') as f:\n",
        "        test_X = f.readlines()\n",
        "    with open(f\"/content/drive/MyDrive/PLN project/data/es/test/{emotion}_labels.txt\", 'r', encoding='utf-8') as f:\n",
        "        test_y = [float(line.strip()) for line in f.readlines()]\n",
        "\n",
        "    return (train_X, train_y), (test_X, test_y)"
      ],
      "metadata": {
        "id": "GsCqvc2CESUA"
      },
      "execution_count": 4,
      "outputs": []
    },
    {
      "cell_type": "markdown",
      "source": [
        "Palabras que contribuyen a predecir la aparición de la emocion (positive features)o su asuencia (negative features)"
      ],
      "metadata": {
        "id": "yi8pCIGMHjoS"
      }
    },
    {
      "cell_type": "code",
      "source": [
        "def analyze_weights(model, vectorizer, emotion, num_features=5):\n",
        "    \"\"\"\n",
        "    Analiza los pesos más importantes del modelo\n",
        "    \"\"\"\n",
        "    reverse_vocab = {v: k for k, v in vectorizer.vocabulary_.items()}\n",
        "    sort_index = np.argsort(model.coef_)\n",
        "\n",
        "    print(f\"\\nTop positive features for {emotion}:\")\n",
        "    for k in reversed(sort_index[-num_features:]):\n",
        "        print(f\"{model.coef_[k]:.5f}\\t{reverse_vocab[k]}\")\n",
        "\n",
        "    print(f\"\\nTop negative features for {emotion}:\")\n",
        "    for k in sort_index[:num_features]:\n",
        "        print(f\"{model.coef_[k]:.5f}\\t{reverse_vocab[k]}\")"
      ],
      "metadata": {
        "id": "inl8lpu-GKND"
      },
      "execution_count": 5,
      "outputs": []
    },
    {
      "cell_type": "markdown",
      "source": [
        "# Función para entrenar y evaluar el modelo para una emoción"
      ],
      "metadata": {
        "id": "p4ksP0GdI8uH"
      }
    },
    {
      "cell_type": "code",
      "source": [
        "def train_emotion_regressor(emotion,alpha=100):\n",
        "    \"\"\"\n",
        "    Entrena y evalúa un regresor para una emoción específica\n",
        "    \"\"\"\n",
        "\n",
        "    vectorizer = CountVectorizer(\n",
        "        max_features=10000,\n",
        "        ngram_range=(1,2),\n",
        "        lowercase=True,\n",
        "        strip_accents=None,\n",
        "        binary=True\n",
        "    )\n",
        "\n",
        "    # Cargar datos\n",
        "    (train_X, train_y), (test_X, test_y) = read_data(emotion)\n",
        "\n",
        "    X_train = vectorizer.fit_transform(train_X)\n",
        "    X_test = vectorizer.transform(test_X)\n",
        "\n",
        "    # Entrenar modelo\n",
        "    model = linear_model.Ridge(alpha=alpha, fit_intercept=True)\n",
        "    model.fit(X_train, train_y)\n",
        "\n",
        "    # Evaluar\n",
        "    preds = model.predict(X_test)\n",
        "    mae = sklearn.metrics.mean_absolute_error(test_y, preds)\n",
        "\n",
        "    # Analizar pesos\n",
        "    analyze_weights(model, vectorizer, emotion)\n",
        "\n",
        "    return model, vectorizer, mae"
      ],
      "metadata": {
        "id": "GzCCYY8sIrEN"
      },
      "execution_count": 6,
      "outputs": []
    },
    {
      "cell_type": "markdown",
      "source": [
        "# Función para entrenar y evaluar todas las emociones"
      ],
      "metadata": {
        "id": "qGFxTYliKfaS"
      }
    },
    {
      "cell_type": "code",
      "source": [
        "def train_all_emotions():\n",
        "    \"\"\"\n",
        "    Entrena y evalúa regresores para todas las emociones\n",
        "    \"\"\"\n",
        "    emotions = ['joy', 'anger', 'sadness', 'fear']\n",
        "    results = {} #set\n",
        "\n",
        "    for emotion in emotions:\n",
        "        print(f\"\\n-----Processing {emotion}\")\n",
        "        model, vectorizer, mae = train_emotion_regressor(emotion)\n",
        "        print(f\"MAE{emotion}: {mae:.4f}\")\n",
        "\n",
        "        results[emotion] = {\n",
        "            'model': model,\n",
        "            'vectorizer': vectorizer,\n",
        "            'mae': mae\n",
        "        }\n",
        "\n",
        "    return results"
      ],
      "metadata": {
        "id": "AVdPDcdhKqH-"
      },
      "execution_count": 7,
      "outputs": []
    },
    {
      "cell_type": "code",
      "source": [
        "resultados = train_all_emotions()"
      ],
      "metadata": {
        "colab": {
          "base_uri": "https://localhost:8080/"
        },
        "id": "VqBclH_4LkdE",
        "outputId": "daf81886-8358-45de-b884-ea50829c47b5"
      },
      "execution_count": 8,
      "outputs": [
        {
          "output_type": "stream",
          "name": "stdout",
          "text": [
            "\n",
            "-----Processing joy\n",
            "\n",
            "Top positive features for joy:\n",
            "0.04660\thappy\n",
            "0.04222\thilarious\n",
            "0.03923\tlove\n",
            "0.02730\tday\n",
            "0.02431\ttoday\n",
            "\n",
            "Top negative features for joy:\n",
            "-0.02428\tbut\n",
            "-0.01930\twhen\n",
            "-0.01914\tif\n",
            "-0.01855\tglee\n",
            "-0.01807\tdon\n",
            "MAEjoy: 0.2206\n",
            "\n",
            "-----Processing anger\n",
            "\n",
            "Top positive features for anger:\n",
            "0.04270\tfuming\n",
            "0.03374\tangry\n",
            "0.02662\tpeople\n",
            "0.02391\tso\n",
            "0.02126\tme\n",
            "\n",
            "Top negative features for anger:\n",
            "-0.02307\tlove\n",
            "-0.01571\tfollow\n",
            "-0.01522\tsnap\n",
            "-0.01473\tfrown\n",
            "-0.01442\tsting\n",
            "MAEanger: 0.2213\n",
            "\n",
            "-----Processing sadness\n",
            "\n",
            "Top positive features for sadness:\n",
            "0.05167\tdepression\n",
            "0.04154\tdepressing\n",
            "0.03508\tsad\n",
            "0.03323\tmy\n",
            "0.03091\tsadness\n",
            "\n",
            "Top negative features for sadness:\n",
            "-0.04273\tserious\n",
            "-0.02874\tblues\n",
            "-0.02745\tpine\n",
            "-0.01969\tdark\n",
            "-0.01836\tsober\n",
            "MAEsadness: 0.2245\n",
            "\n",
            "-----Processing fear\n",
            "\n",
            "Top positive features for fear:\n",
            "0.06426\tnervous\n",
            "0.04802\tanxiety\n",
            "0.04437\tpanic\n",
            "0.04171\tnightmare\n",
            "0.03207\tterror\n",
            "\n",
            "Top negative features for fear:\n",
            "-0.02861\tstart\n",
            "-0.02779\tawe\n",
            "-0.02598\tyou\n",
            "-0.02387\tterrific\n",
            "-0.02082\tshake\n",
            "MAEfear: 0.2148\n"
          ]
        }
      ]
    },
    {
      "cell_type": "markdown",
      "source": [
        "#RESULTADOS FINALES CON MAE COMO METRICA"
      ],
      "metadata": {
        "id": "Q7mSMzEQM2to"
      }
    },
    {
      "cell_type": "code",
      "source": [
        "\n",
        "  print(\"\\n=== RESULTADOS ===\")\n",
        "  for emotion, data in resultados.items():\n",
        "        print(f\"{emotion}: MAE = {data['mae']:.4f}\")"
      ],
      "metadata": {
        "colab": {
          "base_uri": "https://localhost:8080/"
        },
        "id": "znSwD-4RMXe9",
        "outputId": "47dc2eca-abfe-4e0f-ea51-0ecc8024370a"
      },
      "execution_count": 9,
      "outputs": [
        {
          "output_type": "stream",
          "name": "stdout",
          "text": [
            "\n",
            "=== RESULTADOS ===\n",
            "joy: MAE = 0.2206\n",
            "anger: MAE = 0.2213\n",
            "sadness: MAE = 0.2245\n",
            "fear: MAE = 0.2148\n"
          ]
        }
      ]
    },
    {
      "cell_type": "markdown",
      "source": [
        "# Estrategia 2\n",
        "Estrategia 2: Utilizar la traducción automática, traducir el conjunto de entrenamiento y desarrollo en inglés al español y evaluar un modelo entrenado en el conjunto de traducido en textos en español. Definamos una función para leer otro conjunto de datos, los datos de entrenamiento traducidos del ingles al español. Podriamos reutilizar la función read_data, pero como defini la ruta especifica en la función definamosla de nuevo"
      ],
      "metadata": {
        "id": "X-eSJSp8H1NJ"
      }
    },
    {
      "cell_type": "code",
      "source": [
        "def read_data2(emotion):\n",
        "    \"\"\"\n",
        "    Lee los datos de train y test para una emoción\n",
        "    \"\"\"\n",
        "    # Datos de entrenamiento\n",
        "    with open(f\"/content/drive/MyDrive/PLN project/data/en_train&dev_translatedEs/train/translated_trainToEs_{emotion}.txt\", 'r', encoding='utf-8') as f:\n",
        "        train_X = f.readlines()\n",
        "    with open(f\"/content/drive/MyDrive/PLN project/data/en/train/{emotion}_labels.txt\", 'r', encoding='utf-8') as f:\n",
        "        train_y = [float(line.strip()) for line in f.readlines()]\n",
        "\n",
        "    # Datos de test\n",
        "    with open(f\"/content/drive/MyDrive/PLN project/data/es/test/{emotion}.txt\", 'r', encoding='utf-8') as f:\n",
        "        test_X = f.readlines()\n",
        "    with open(f\"/content/drive/MyDrive/PLN project/data/es/test/{emotion}_labels.txt\", 'r', encoding='utf-8') as f:\n",
        "        test_y = [float(line.strip()) for line in f.readlines()]\n",
        "\n",
        "    return (train_X, train_y), (test_X, test_y)\n"
      ],
      "metadata": {
        "id": "TFNYYKBGIwwa"
      },
      "execution_count": 17,
      "outputs": []
    },
    {
      "cell_type": "code",
      "source": [
        "def train_emotion_regressor2(emotion,alpha=100):\n",
        "    \"\"\"\n",
        "    Entrena y evalúa un regresor para una emoción específica\n",
        "    \"\"\"\n",
        "\n",
        "    vectorizer = CountVectorizer(\n",
        "        max_features=10000,\n",
        "        ngram_range=(1,2),\n",
        "        lowercase=True,\n",
        "        strip_accents=None,\n",
        "        binary=True\n",
        "    )\n",
        "\n",
        "    # Cargar datos\n",
        "    (train_X, train_y), (test_X, test_y) = read_data2(emotion)\n",
        "\n",
        "    X_train = vectorizer.fit_transform(train_X)\n",
        "    X_test = vectorizer.transform(test_X)\n",
        "\n",
        "    # Entrenar modelo\n",
        "    model = linear_model.Ridge(alpha=alpha, fit_intercept=True)\n",
        "    model.fit(X_train, train_y)\n",
        "\n",
        "    # Evaluar\n",
        "    preds = model.predict(X_test)\n",
        "    mae = sklearn.metrics.mean_absolute_error(test_y, preds)\n",
        "\n",
        "    # Analizar pesos\n",
        "    analyze_weights(model, vectorizer, emotion)\n",
        "\n",
        "    return model, vectorizer, mae"
      ],
      "metadata": {
        "id": "m5upRG0dKudn"
      },
      "execution_count": 14,
      "outputs": []
    },
    {
      "cell_type": "code",
      "source": [
        "def train_all_emotions2():\n",
        "    \"\"\"\n",
        "    Entrena y evalúa regresores para todas las emociones\n",
        "    \"\"\"\n",
        "    emotions = ['joy', 'anger', 'sadness', 'fear']\n",
        "    results = {} #set\n",
        "\n",
        "    for emotion in emotions:\n",
        "        print(f\"\\n-----Processing {emotion}\")\n",
        "        model, vectorizer, mae = train_emotion_regressor2(emotion)\n",
        "        print(f\"MAE{emotion}: {mae:.4f}\")\n",
        "\n",
        "        results[emotion] = {\n",
        "            'model': model,\n",
        "            'vectorizer': vectorizer,\n",
        "            'mae': mae\n",
        "        }\n",
        "\n",
        "    return results"
      ],
      "metadata": {
        "id": "qX4t5aY_LJ-2"
      },
      "execution_count": 15,
      "outputs": []
    },
    {
      "cell_type": "code",
      "source": [
        "resultados_train_es = train_all_emotions2();"
      ],
      "metadata": {
        "colab": {
          "base_uri": "https://localhost:8080/"
        },
        "id": "6LtD2UrMLtXe",
        "outputId": "64428a3f-eb67-45d5-e741-867d1a65fc06"
      },
      "execution_count": 18,
      "outputs": [
        {
          "output_type": "stream",
          "name": "stdout",
          "text": [
            "\n",
            "-----Processing joy\n",
            "\n",
            "Top positive features for joy:\n",
            "0.03801\tfeliz\n",
            "0.03407\tdía\n",
            "0.03192\tgracias\n",
            "0.02786\tmás\n",
            "0.02758\testoy\n",
            "\n",
            "Top negative features for joy:\n",
            "-0.03939\tno\n",
            "-0.02538\tpero\n",
            "-0.02246\tla\n",
            "-0.02090\tser\n",
            "-0.01861\tsobre\n",
            "MAEjoy: 0.2212\n",
            "\n",
            "-----Processing anger\n",
            "\n",
            "Top positive features for anger:\n",
            "0.02483\tfuming\n",
            "0.02473\tenojado\n",
            "0.02223\tmi\n",
            "0.02108\tpor\n",
            "0.02096\tla gente\n",
            "\n",
            "Top negative features for anger:\n",
            "-0.01749\tme encanta\n",
            "-0.01749\tencanta\n",
            "-0.01742\tes\n",
            "-0.01517\tlas\n",
            "-0.01266\tpero\n",
            "MAEanger: 0.2254\n",
            "\n",
            "-----Processing sadness\n",
            "\n",
            "Top positive features for sadness:\n",
            "0.04155\tdepresión\n",
            "0.03593\ttriste\n",
            "0.02854\tmi\n",
            "0.02421\tdeprimente\n",
            "0.02028\tinsatisfecho\n",
            "\n",
            "Top negative features for sadness:\n",
            "-0.03066\tse\n",
            "-0.02848\tserio\n",
            "-0.02464\tel\n",
            "-0.02279\tblues\n",
            "-0.02250\ten el\n",
            "MAEsadness: 0.2249\n",
            "\n",
            "-----Processing fear\n",
            "\n",
            "Top positive features for fear:\n",
            "0.05112\tnervioso\n",
            "0.04248\tansiedad\n",
            "0.03720\tpesadilla\n",
            "0.03261\tme\n",
            "0.03258\tterrorismo\n",
            "\n",
            "Top negative features for fear:\n",
            "-0.02523\tgracias\n",
            "-0.02066\tlo\n",
            "-0.01692\tnoche\n",
            "-0.01525\ttodo\n",
            "-0.01419\tson\n",
            "MAEfear: 0.2147\n"
          ]
        }
      ]
    },
    {
      "cell_type": "code",
      "source": [
        "\n",
        "  print(\"\\n=== RESULTADOS con train en español===\")\n",
        "  for emotion, data in resultados_train_es.items():\n",
        "        print(f\"{emotion}: MAE = {data['mae']:.4f}\")"
      ],
      "metadata": {
        "colab": {
          "base_uri": "https://localhost:8080/"
        },
        "id": "o_sg9sdnMENw",
        "outputId": "a8fd653c-2151-4f37-f1df-9ca520495b36"
      },
      "execution_count": 20,
      "outputs": [
        {
          "output_type": "stream",
          "name": "stdout",
          "text": [
            "\n",
            "=== RESULTADOS con train en español===\n",
            "joy: MAE = 0.2212\n",
            "anger: MAE = 0.2254\n",
            "sadness: MAE = 0.2249\n",
            "fear: MAE = 0.2147\n"
          ]
        }
      ]
    }
  ]
}