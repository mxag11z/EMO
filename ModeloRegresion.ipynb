{
  "nbformat": 4,
  "nbformat_minor": 0,
  "metadata": {
    "colab": {
      "provenance": [],
      "authorship_tag": "ABX9TyPP2EGHBpHOI0iPfosEzrrD",
      "include_colab_link": true
    },
    "kernelspec": {
      "name": "python3",
      "display_name": "Python 3"
    },
    "language_info": {
      "name": "python"
    }
  },
  "cells": [
    {
      "cell_type": "markdown",
      "metadata": {
        "id": "view-in-github",
        "colab_type": "text"
      },
      "source": [
        "<a href=\"https://colab.research.google.com/github/mxag11z/EMO/blob/main/ModeloRegresion.ipynb\" target=\"_parent\"><img src=\"https://colab.research.google.com/assets/colab-badge.svg\" alt=\"Open In Colab\"/></a>"
      ]
    },
    {
      "cell_type": "markdown",
      "source": [
        "# Regresion 4 emociones Joy, sadness, anger, fear\n",
        "\n",
        "Estrategia 1: Utilizar la traducción automática, traducir el conjunto de datos de evaluación en español al inglés y evaluar un modelo entrenado en el conjunto de entrenamiento en inglés.\n"
      ],
      "metadata": {
        "id": "y5pXF46qEGuG"
      }
    },
    {
      "cell_type": "code",
      "source": [
        "from google.colab import drive\n",
        "drive.mount('/content/drive')"
      ],
      "metadata": {
        "colab": {
          "base_uri": "https://localhost:8080/"
        },
        "id": "RdsyDEAEDL61",
        "outputId": "96827b66-1bc9-4f74-e557-74f5801d01ea"
      },
      "execution_count": 1,
      "outputs": [
        {
          "output_type": "stream",
          "name": "stdout",
          "text": [
            "Mounted at /content/drive\n"
          ]
        }
      ]
    },
    {
      "cell_type": "code",
      "execution_count": 2,
      "metadata": {
        "id": "YPzGbKESC9yI"
      },
      "outputs": [],
      "source": [
        "import nltk\n",
        "import numpy as np\n",
        "from sklearn import linear_model\n",
        "import sklearn.metrics\n",
        "from sklearn.feature_extraction.text import CountVectorizer"
      ]
    },
    {
      "cell_type": "code",
      "source": [
        "def read_data(emotion, base_path):\n",
        "    \"\"\"\n",
        "    Lee los datos de train y test para una emoción\n",
        "    \"\"\"\n",
        "    # Datos de entrenamiento\n",
        "    with open(f\"/content/drive/MyDrive/PLN project/data/en/train/{emotion}.txt\", 'r', encoding='utf-8') as f:\n",
        "        train_X = f.readlines()\n",
        "    with open(f\"/content/drive/MyDrive/PLN project/data/en/train/{emotion}_labels.txt\", 'r', encoding='utf-8') as f:\n",
        "        train_y = [float(line.strip()) for line in f.readlines()]\n",
        "\n",
        "    # Datos de test\n",
        "    with open(f\"/content/drive/MyDrive/PLN project/data/es_test_translatedEn/translates_testToEn_{emotion}.txt\", 'r', encoding='utf-8') as f:\n",
        "        test_X = f.readlines()\n",
        "    with open(f\"/content/drive/MyDrive/PLN project/data/es/test/{emotion}_labels.txt\", 'r', encoding='utf-8') as f:\n",
        "        test_y = [float(line.strip()) for line in f.readlines()]\n",
        "\n",
        "    return (train_X, train_y), (test_X, test_y)"
      ],
      "metadata": {
        "id": "GsCqvc2CESUA"
      },
      "execution_count": 3,
      "outputs": []
    },
    {
      "cell_type": "code",
      "source": [],
      "metadata": {
        "id": "inl8lpu-GKND"
      },
      "execution_count": null,
      "outputs": []
    }
  ]
}