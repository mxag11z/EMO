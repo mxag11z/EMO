{
  "nbformat": 4,
  "nbformat_minor": 0,
  "metadata": {
    "colab": {
      "provenance": [],
      "gpuType": "T4",
      "authorship_tag": "ABX9TyMK9Gi952g6G9XWPJMxrDd4",
      "include_colab_link": true
    },
    "kernelspec": {
      "name": "python3",
      "display_name": "Python 3"
    },
    "language_info": {
      "name": "python"
    },
    "accelerator": "GPU"
  },
  "cells": [
    {
      "cell_type": "markdown",
      "metadata": {
        "id": "view-in-github",
        "colab_type": "text"
      },
      "source": [
        "<a href=\"https://colab.research.google.com/github/mxag11z/EMO/blob/main/TranslateLexicon.ipynb\" target=\"_parent\"><img src=\"https://colab.research.google.com/assets/colab-badge.svg\" alt=\"Open In Colab\"/></a>"
      ]
    },
    {
      "cell_type": "code",
      "execution_count": 3,
      "metadata": {
        "colab": {
          "base_uri": "https://localhost:8080/"
        },
        "id": "abTwjOHLj4Nv",
        "outputId": "ee222b4b-8ae5-47e3-9346-d6328b1a7945"
      },
      "outputs": [
        {
          "output_type": "stream",
          "name": "stdout",
          "text": [
            "Mounted at /content/drive\n"
          ]
        }
      ],
      "source": [
        "from google.colab import drive\n",
        "drive.mount('/content/drive')"
      ]
    },
    {
      "cell_type": "code",
      "source": [
        "import os\n",
        "from transformers import pipeline\n",
        "import pandas as pd\n",
        "import numpy as np\n",
        "\n",
        "def translate_buechel_lexicon(input_file, output_file):\n",
        "    # Inicializar el traductor\n",
        "    traductor = pipeline(\"translation\", model=\"facebook/nllb-200-distilled-600M\", device='cuda')\n",
        "\n",
        "    # Leer el archivo TSV\n",
        "    df = pd.read_csv(input_file, sep='\\t')\n",
        "\n",
        "    print(\"Comenzando traducción...\")\n",
        "    palabras_traducidas = []\n",
        "    total = len(df)\n",
        "\n",
        "    for i, palabra in enumerate(df['Word']):\n",
        "        # Verificar si la palabra es un número\n",
        "        if isinstance(palabra, (float, int)) or pd.isna(palabra):\n",
        "            palabras_traducidas.append(str(palabra))  # Mantener el número como string\n",
        "        else:\n",
        "            traduccion = traductor(str(palabra).strip(), src_lang='eng_Latn', tgt_lang='spa_Latn')[0]['translation_text']\n",
        "            palabras_traducidas.append(traduccion)\n",
        "\n",
        "        # Mostrar progreso cada 100 palabras\n",
        "        if (i + 1) % 100 == 0:\n",
        "            print(f\"Traducidas {i + 1}/{total} palabras\")\n",
        "\n",
        "    # Crear nuevo DataFrame con palabras traducidas\n",
        "    df_traducido = df.copy()\n",
        "    df_traducido['Word'] = palabras_traducidas\n",
        "\n",
        "    # Guardar el lexicon traducido como TSV\n",
        "    df_traducido.to_csv(output_file, sep='\\t', index=False)\n",
        "    print(f\"Lexicon traducido guardado en: {output_file}\")\n"
      ],
      "metadata": {
        "id": "ARMm_ZM2kBsh"
      },
      "execution_count": 1,
      "outputs": []
    },
    {
      "cell_type": "code",
      "source": [
        "input_file = \"/content/drive/MyDrive/PLN project/data/lexicons/Beucher_eng_lex.tsv\"\n",
        "output_file = \"/content/drive/MyDrive/PLN project/data/lexicons/Buechel_spa_lex.tsv\"\n",
        "translate_buechel_lexicon(input_file, output_file)"
      ],
      "metadata": {
        "colab": {
          "base_uri": "https://localhost:8080/"
        },
        "id": "3iQIZ5kNkY_Y",
        "outputId": "3203f0fe-e3eb-4ec2-9c32-d70aa23a82c4"
      },
      "execution_count": 4,
      "outputs": [
        {
          "output_type": "stream",
          "name": "stdout",
          "text": [
            "Comenzando traducción...\n"
          ]
        },
        {
          "output_type": "stream",
          "name": "stderr",
          "text": [
            "You seem to be using the pipelines sequentially on GPU. In order to maximize efficiency please use a dataset\n"
          ]
        },
        {
          "output_type": "stream",
          "name": "stdout",
          "text": [
            "Traducidas 100/13915 palabras\n",
            "Traducidas 200/13915 palabras\n",
            "Traducidas 300/13915 palabras\n",
            "Traducidas 400/13915 palabras\n",
            "Traducidas 500/13915 palabras\n",
            "Traducidas 600/13915 palabras\n",
            "Traducidas 700/13915 palabras\n",
            "Traducidas 800/13915 palabras\n",
            "Traducidas 900/13915 palabras\n",
            "Traducidas 1000/13915 palabras\n",
            "Traducidas 1100/13915 palabras\n",
            "Traducidas 1200/13915 palabras\n",
            "Traducidas 1300/13915 palabras\n",
            "Traducidas 1400/13915 palabras\n",
            "Traducidas 1500/13915 palabras\n",
            "Traducidas 1600/13915 palabras\n",
            "Traducidas 1700/13915 palabras\n",
            "Traducidas 1800/13915 palabras\n",
            "Traducidas 1900/13915 palabras\n",
            "Traducidas 2000/13915 palabras\n",
            "Traducidas 2100/13915 palabras\n",
            "Traducidas 2200/13915 palabras\n",
            "Traducidas 2300/13915 palabras\n",
            "Traducidas 2400/13915 palabras\n",
            "Traducidas 2500/13915 palabras\n",
            "Traducidas 2600/13915 palabras\n",
            "Traducidas 2700/13915 palabras\n",
            "Traducidas 2800/13915 palabras\n",
            "Traducidas 2900/13915 palabras\n",
            "Traducidas 3000/13915 palabras\n",
            "Traducidas 3100/13915 palabras\n",
            "Traducidas 3200/13915 palabras\n",
            "Traducidas 3300/13915 palabras\n",
            "Traducidas 3400/13915 palabras\n",
            "Traducidas 3500/13915 palabras\n",
            "Traducidas 3600/13915 palabras\n",
            "Traducidas 3700/13915 palabras\n",
            "Traducidas 3800/13915 palabras\n",
            "Traducidas 3900/13915 palabras\n",
            "Traducidas 4000/13915 palabras\n",
            "Traducidas 4100/13915 palabras\n",
            "Traducidas 4200/13915 palabras\n",
            "Traducidas 4300/13915 palabras\n",
            "Traducidas 4400/13915 palabras\n",
            "Traducidas 4500/13915 palabras\n",
            "Traducidas 4600/13915 palabras\n",
            "Traducidas 4700/13915 palabras\n",
            "Traducidas 4800/13915 palabras\n",
            "Traducidas 4900/13915 palabras\n",
            "Traducidas 5000/13915 palabras\n",
            "Traducidas 5100/13915 palabras\n",
            "Traducidas 5200/13915 palabras\n",
            "Traducidas 5300/13915 palabras\n",
            "Traducidas 5400/13915 palabras\n",
            "Traducidas 5500/13915 palabras\n",
            "Traducidas 5600/13915 palabras\n",
            "Traducidas 5700/13915 palabras\n",
            "Traducidas 5800/13915 palabras\n",
            "Traducidas 5900/13915 palabras\n",
            "Traducidas 6000/13915 palabras\n",
            "Traducidas 6100/13915 palabras\n",
            "Traducidas 6200/13915 palabras\n",
            "Traducidas 6300/13915 palabras\n",
            "Traducidas 6400/13915 palabras\n",
            "Traducidas 6500/13915 palabras\n",
            "Traducidas 6600/13915 palabras\n",
            "Traducidas 6700/13915 palabras\n",
            "Traducidas 6800/13915 palabras\n",
            "Traducidas 6900/13915 palabras\n",
            "Traducidas 7000/13915 palabras\n",
            "Traducidas 7100/13915 palabras\n",
            "Traducidas 7200/13915 palabras\n",
            "Traducidas 7300/13915 palabras\n",
            "Traducidas 7400/13915 palabras\n",
            "Traducidas 7500/13915 palabras\n",
            "Traducidas 7600/13915 palabras\n",
            "Traducidas 7700/13915 palabras\n",
            "Traducidas 7800/13915 palabras\n",
            "Traducidas 7900/13915 palabras\n",
            "Traducidas 8000/13915 palabras\n",
            "Traducidas 8100/13915 palabras\n",
            "Traducidas 8200/13915 palabras\n",
            "Traducidas 8300/13915 palabras\n",
            "Traducidas 8400/13915 palabras\n",
            "Traducidas 8500/13915 palabras\n",
            "Traducidas 8600/13915 palabras\n",
            "Traducidas 8700/13915 palabras\n",
            "Traducidas 8800/13915 palabras\n",
            "Traducidas 8900/13915 palabras\n",
            "Traducidas 9000/13915 palabras\n",
            "Traducidas 9100/13915 palabras\n",
            "Traducidas 9200/13915 palabras\n",
            "Traducidas 9300/13915 palabras\n",
            "Traducidas 9400/13915 palabras\n",
            "Traducidas 9500/13915 palabras\n",
            "Traducidas 9600/13915 palabras\n",
            "Traducidas 9700/13915 palabras\n",
            "Traducidas 9800/13915 palabras\n",
            "Traducidas 9900/13915 palabras\n",
            "Traducidas 10000/13915 palabras\n",
            "Traducidas 10100/13915 palabras\n",
            "Traducidas 10200/13915 palabras\n",
            "Traducidas 10300/13915 palabras\n",
            "Traducidas 10400/13915 palabras\n",
            "Traducidas 10500/13915 palabras\n",
            "Traducidas 10600/13915 palabras\n",
            "Traducidas 10700/13915 palabras\n",
            "Traducidas 10800/13915 palabras\n",
            "Traducidas 10900/13915 palabras\n",
            "Traducidas 11000/13915 palabras\n",
            "Traducidas 11100/13915 palabras\n",
            "Traducidas 11200/13915 palabras\n",
            "Traducidas 11300/13915 palabras\n",
            "Traducidas 11400/13915 palabras\n",
            "Traducidas 11500/13915 palabras\n",
            "Traducidas 11600/13915 palabras\n",
            "Traducidas 11700/13915 palabras\n",
            "Traducidas 11800/13915 palabras\n",
            "Traducidas 11900/13915 palabras\n",
            "Traducidas 12000/13915 palabras\n",
            "Traducidas 12100/13915 palabras\n",
            "Traducidas 12200/13915 palabras\n",
            "Traducidas 12300/13915 palabras\n",
            "Traducidas 12400/13915 palabras\n",
            "Traducidas 12500/13915 palabras\n",
            "Traducidas 12600/13915 palabras\n",
            "Traducidas 12700/13915 palabras\n",
            "Traducidas 12800/13915 palabras\n",
            "Traducidas 12900/13915 palabras\n",
            "Traducidas 13000/13915 palabras\n",
            "Traducidas 13100/13915 palabras\n",
            "Traducidas 13200/13915 palabras\n",
            "Traducidas 13300/13915 palabras\n",
            "Traducidas 13400/13915 palabras\n",
            "Traducidas 13500/13915 palabras\n",
            "Traducidas 13600/13915 palabras\n",
            "Traducidas 13700/13915 palabras\n",
            "Traducidas 13800/13915 palabras\n",
            "Traducidas 13900/13915 palabras\n",
            "Lexicon traducido guardado en: /content/drive/MyDrive/PLN project/data/lexicons/Buechel_spa_lex.tsv\n"
          ]
        }
      ]
    }
  ]
}