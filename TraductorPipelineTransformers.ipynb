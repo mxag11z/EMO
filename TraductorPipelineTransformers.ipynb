{
  "nbformat": 4,
  "nbformat_minor": 0,
  "metadata": {
    "colab": {
      "provenance": [],
      "gpuType": "T4",
      "authorship_tag": "ABX9TyO37MleHh3aEI0vGmU0bzBu",
      "include_colab_link": true
    },
    "kernelspec": {
      "name": "python3",
      "display_name": "Python 3"
    },
    "language_info": {
      "name": "python"
    },
    "accelerator": "GPU"
  },
  "cells": [
    {
      "cell_type": "markdown",
      "metadata": {
        "id": "view-in-github",
        "colab_type": "text"
      },
      "source": [
        "<a href=\"https://colab.research.google.com/github/mxag11z/EMO/blob/main/TraductorPipelineTransformers.ipynb\" target=\"_parent\"><img src=\"https://colab.research.google.com/assets/colab-badge.svg\" alt=\"Open In Colab\"/></a>"
      ]
    },
    {
      "cell_type": "markdown",
      "source": [
        "# Traducción de textos usando Pipelines de transformers"
      ],
      "metadata": {
        "id": "-DIXkb-7uT15"
      }
    },
    {
      "cell_type": "code",
      "source": [
        "from google.colab import drive\n",
        "drive.mount('/content/drive')"
      ],
      "metadata": {
        "colab": {
          "base_uri": "https://localhost:8080/"
        },
        "id": "gAdF-iuGU6u5",
        "outputId": "ab997d08-aa6a-48ad-8107-a4f0324672b4"
      },
      "execution_count": 2,
      "outputs": [
        {
          "output_type": "stream",
          "name": "stdout",
          "text": [
            "Mounted at /content/drive\n"
          ]
        }
      ]
    },
    {
      "cell_type": "code",
      "execution_count": 7,
      "metadata": {
        "id": "u5BoYAglNOhu"
      },
      "outputs": [],
      "source": [
        "import os\n",
        "\n",
        "from transformers import pipeline\n",
        "\n",
        "def translate_files(input_folder, output_folder, filenames_to_translate):\n",
        "    # Inicializar el traductor\n",
        "    traductor = pipeline(\"translation\", model=\"facebook/nllb-200-distilled-600M\", device='cuda')\n",
        "\n",
        "\n",
        "    for filename in filenames_to_translate:\n",
        "        input_path = os.path.join(input_folder, filename)\n",
        "        output_filename = f\"translated_trainToEs_{filename}\"\n",
        "        output_path = os.path.join(output_folder, output_filename)\n",
        "\n",
        "        if os.path.exists(input_path):\n",
        "            with open(input_path, 'r', encoding='utf-8') as f:\n",
        "                frases = f.readlines()\n",
        "\n",
        "            frases_traducidas = [\n",
        "                traductor(frase.strip(), src_lang='eng_Latn', tgt_lang='spa_Latn')[0]['translation_text']\n",
        "                for frase in frases\n",
        "            ]\n",
        "\n",
        "            with open(output_path, 'w', encoding='utf-8') as f:\n",
        "                f.writelines([frase + \"\\n\" for frase in frases_traducidas])\n",
        "\n",
        "            print(f\"Archivo traducido guardado en: {output_path}\")\n",
        "        else:\n",
        "            print(f\"Archivo no encontrado: {input_path}\")"
      ]
    },
    {
      "cell_type": "code",
      "source": [
        "\n",
        "input_folder = \"/content/drive/MyDrive/PLN project/data/en/train\"\n",
        "output_folder = \"/content/drive/MyDrive/PLN project/data/en_train&test_translatedEs/train\"\n",
        "\n",
        "filenames_to_translate = [\"anger.txt\", \"joy.txt\", \"fear.txt\", \"sadness.txt\"]\n",
        "\n",
        "os.makedirs(output_folder, exist_ok=True)\n",
        "\n",
        "translate_files(input_folder, output_folder, filenames_to_translate)"
      ],
      "metadata": {
        "colab": {
          "base_uri": "https://localhost:8080/"
        },
        "id": "rFcQp_W-TWA1",
        "outputId": "1fef08a8-a52c-4e1e-975e-50137356fed0"
      },
      "execution_count": 8,
      "outputs": [
        {
          "output_type": "stream",
          "name": "stdout",
          "text": [
            "Archivo traducido guardado en: /content/drive/MyDrive/PLN project/data/en_train&test_translatedEs/train/translated_trainToEs_anger.txt\n",
            "Archivo traducido guardado en: /content/drive/MyDrive/PLN project/data/en_train&test_translatedEs/train/translated_trainToEs_joy.txt\n",
            "Archivo traducido guardado en: /content/drive/MyDrive/PLN project/data/en_train&test_translatedEs/train/translated_trainToEs_fear.txt\n"
          ]
        },
        {
          "output_type": "stream",
          "name": "stderr",
          "text": [
            "Your input_length: 236 is bigger than 0.9 * max_length: 200. You might consider increasing your max_length manually, e.g. translator('...', max_length=400)\n"
          ]
        },
        {
          "output_type": "stream",
          "name": "stdout",
          "text": [
            "Archivo traducido guardado en: /content/drive/MyDrive/PLN project/data/en_train&test_translatedEs/train/translated_trainToEs_sadness.txt\n"
          ]
        }
      ]
    }
  ]
}